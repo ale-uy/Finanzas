{
 "cells": [
  {
   "attachments": {},
   "cell_type": "markdown",
   "metadata": {},
   "source": [
    "# Analisis de Datos Financieros con Yahoo Finanzas"
   ]
  },
  {
   "attachments": {},
   "cell_type": "markdown",
   "metadata": {},
   "source": [
    "## Preparacion de los datos"
   ]
  },
  {
   "attachments": {},
   "cell_type": "markdown",
   "metadata": {},
   "source": [
    "Importamos las librerias que utilizaremos"
   ]
  },
  {
   "cell_type": "code",
   "execution_count": 3,
   "metadata": {},
   "outputs": [],
   "source": [
    "import pandas as pd\n",
    "import yfinance as yf\n",
    "from yahoofinancials import YahooFinancials"
   ]
  },
  {
   "attachments": {},
   "cell_type": "markdown",
   "metadata": {},
   "source": [
    "Creamos una funcion generica que utilizaremos para descargar los datos de las distintas empresas"
   ]
  },
  {
   "cell_type": "code",
   "execution_count": 4,
   "metadata": {},
   "outputs": [],
   "source": [
    "def df(name:str):\n",
    "    return yf.download(name, \n",
    "                start=\"2014-01-01\", \n",
    "                progress=False,\n",
    ")"
   ]
  },
  {
   "attachments": {},
   "cell_type": "markdown",
   "metadata": {},
   "source": [
    "Importaremos los datos de Amazon, Netflix, IBM y SP500"
   ]
  },
  {
   "cell_type": "code",
   "execution_count": 5,
   "metadata": {},
   "outputs": [],
   "source": [
    "df_amazon = df(\"AMZN\")\n",
    "df_netflix = df(\"NFLX\")\n",
    "df_ibm = df(\"IBM\")\n",
    "df_sp500 = df(\"SPY\")"
   ]
  },
  {
   "attachments": {},
   "cell_type": "markdown",
   "metadata": {},
   "source": [
    "Solo utilizaremos las ultimas dos columnas (Precios de Cierre y Volúmenes)"
   ]
  },
  {
   "cell_type": "code",
   "execution_count": 6,
   "metadata": {},
   "outputs": [
    {
     "data": {
      "text/html": [
       "<div>\n",
       "<style scoped>\n",
       "    .dataframe tbody tr th:only-of-type {\n",
       "        vertical-align: middle;\n",
       "    }\n",
       "\n",
       "    .dataframe tbody tr th {\n",
       "        vertical-align: top;\n",
       "    }\n",
       "\n",
       "    .dataframe thead th {\n",
       "        text-align: right;\n",
       "    }\n",
       "</style>\n",
       "<table border=\"1\" class=\"dataframe\">\n",
       "  <thead>\n",
       "    <tr style=\"text-align: right;\">\n",
       "      <th></th>\n",
       "      <th>Adj Close</th>\n",
       "      <th>Volume</th>\n",
       "    </tr>\n",
       "    <tr>\n",
       "      <th>Date</th>\n",
       "      <th></th>\n",
       "      <th></th>\n",
       "    </tr>\n",
       "  </thead>\n",
       "  <tbody>\n",
       "    <tr>\n",
       "      <th>2014-01-02</th>\n",
       "      <td>19.898500</td>\n",
       "      <td>42756000</td>\n",
       "    </tr>\n",
       "    <tr>\n",
       "      <th>2014-01-03</th>\n",
       "      <td>19.822001</td>\n",
       "      <td>44204000</td>\n",
       "    </tr>\n",
       "    <tr>\n",
       "      <th>2014-01-06</th>\n",
       "      <td>19.681499</td>\n",
       "      <td>63412000</td>\n",
       "    </tr>\n",
       "    <tr>\n",
       "      <th>2014-01-07</th>\n",
       "      <td>19.901501</td>\n",
       "      <td>38320000</td>\n",
       "    </tr>\n",
       "    <tr>\n",
       "      <th>2014-01-08</th>\n",
       "      <td>20.096001</td>\n",
       "      <td>46330000</td>\n",
       "    </tr>\n",
       "    <tr>\n",
       "      <th>...</th>\n",
       "      <td>...</td>\n",
       "      <td>...</td>\n",
       "    </tr>\n",
       "    <tr>\n",
       "      <th>2023-04-17</th>\n",
       "      <td>102.739998</td>\n",
       "      <td>39919500</td>\n",
       "    </tr>\n",
       "    <tr>\n",
       "      <th>2023-04-18</th>\n",
       "      <td>102.300003</td>\n",
       "      <td>39790500</td>\n",
       "    </tr>\n",
       "    <tr>\n",
       "      <th>2023-04-19</th>\n",
       "      <td>104.300003</td>\n",
       "      <td>58398900</td>\n",
       "    </tr>\n",
       "    <tr>\n",
       "      <th>2023-04-20</th>\n",
       "      <td>103.809998</td>\n",
       "      <td>57696900</td>\n",
       "    </tr>\n",
       "    <tr>\n",
       "      <th>2023-04-21</th>\n",
       "      <td>106.959999</td>\n",
       "      <td>86689700</td>\n",
       "    </tr>\n",
       "  </tbody>\n",
       "</table>\n",
       "<p>2342 rows × 2 columns</p>\n",
       "</div>"
      ],
      "text/plain": [
       "             Adj Close    Volume\n",
       "Date                            \n",
       "2014-01-02   19.898500  42756000\n",
       "2014-01-03   19.822001  44204000\n",
       "2014-01-06   19.681499  63412000\n",
       "2014-01-07   19.901501  38320000\n",
       "2014-01-08   20.096001  46330000\n",
       "...                ...       ...\n",
       "2023-04-17  102.739998  39919500\n",
       "2023-04-18  102.300003  39790500\n",
       "2023-04-19  104.300003  58398900\n",
       "2023-04-20  103.809998  57696900\n",
       "2023-04-21  106.959999  86689700\n",
       "\n",
       "[2342 rows x 2 columns]"
      ]
     },
     "execution_count": 6,
     "metadata": {},
     "output_type": "execute_result"
    }
   ],
   "source": [
    "df_amazon = df_amazon.iloc[:,[4,5]]\n",
    "df_netflix = df_netflix.iloc[:,[4,5]]\n",
    "df_ibm = df_ibm.iloc[:,[4,5]]\n",
    "df_sp500 = df_sp500.iloc[:,[4,5]]\n",
    "\n",
    "df_amazon"
   ]
  },
  {
   "attachments": {},
   "cell_type": "markdown",
   "metadata": {},
   "source": [
    "Unimos las 4 empresas en un solo dataset y renombramos las columnas"
   ]
  },
  {
   "cell_type": "code",
   "execution_count": 28,
   "metadata": {},
   "outputs": [],
   "source": [
    "columns = []\n",
    "for x in [\"AMZN \", \"NFLX \", \"IBM \", \"SPY \"]:\n",
    "    for y in range(2):\n",
    "        columns.append(x+df_amazon.columns[y])\n",
    "datas = [df_amazon[\"Adj Close\"],df_amazon[\"Volume\"],df_netflix[\"Adj Close\"],df_netflix[\"Volume\"],df_ibm[\"Adj Close\"],df_ibm[\"Volume\"],df_sp500[\"Adj Close\"],df_sp500[\"Volume\"]]\n",
    "df_yahoo = pd.DataFrame()\n",
    "for i in range(len(columns)):\n",
    "    df_yahoo[columns[i]] = datas[i]"
   ]
  },
  {
   "attachments": {},
   "cell_type": "markdown",
   "metadata": {},
   "source": [
    "Comprobamos el nuevo DataFrame y lo guardamos para no tener que descargar los datos nuevamente"
   ]
  },
  {
   "cell_type": "code",
   "execution_count": 32,
   "metadata": {},
   "outputs": [
    {
     "name": "stdout",
     "output_type": "stream",
     "text": [
      "            AMZN Adj Close  AMZN Volume  NFLX Adj Close  NFLX Volume   \n",
      "Date                                                                   \n",
      "2014-01-02       19.898500     42756000       51.831429     12325600  \\\n",
      "2014-01-03       19.822001     44204000       51.871429     10817100   \n",
      "2014-01-06       19.681499     63412000       51.367142     15501500   \n",
      "2014-01-07       19.901501     38320000       48.500000     36167600   \n",
      "2014-01-08       20.096001     46330000       48.712856     20001100   \n",
      "...                    ...          ...             ...          ...   \n",
      "2023-04-17      102.739998     39919500      332.720001      6136000   \n",
      "2023-04-18      102.300003     39790500      333.700012     17944500   \n",
      "2023-04-19      104.300003     58398900      323.119995     22128300   \n",
      "2023-04-20      103.809998     57696900      325.350006      9947800   \n",
      "2023-04-21      106.959999     86689700      327.980011      6342600   \n",
      "\n",
      "            IBM Adj Close  IBM Volume  SPY Adj Close  SPY Volume  \n",
      "Date                                                              \n",
      "2014-01-02     120.876122     4755639     154.400253   119636900  \n",
      "2014-01-03     121.599342     4250107     154.374893    81390600  \n",
      "2014-01-06     121.182358     4254919     153.927551   108028200  \n",
      "2014-01-07     123.599487     6205186     154.872910    86144200  \n",
      "2014-01-08     122.465858     4815470     154.906693    96582300  \n",
      "...                   ...         ...            ...         ...  \n",
      "2023-04-17     127.820000     3662700     413.940002    66436400  \n",
      "2023-04-18     127.779999     3193800     414.209991    63560000  \n",
      "2023-04-19     126.320000     7014400     414.140015    55227300  \n",
      "2023-04-20     126.360001     9749600     411.880005    75840400  \n",
      "2023-04-21     125.730003     6724300     412.200012    73436100  \n",
      "\n",
      "[2342 rows x 8 columns]\n"
     ]
    }
   ],
   "source": [
    "print(df_yahoo)\n",
    "\n",
    "import csv\n",
    "\n",
    "df_yahoo.to_csv('df_yahoo.csv', sep=\",\")"
   ]
  }
 ],
 "metadata": {
  "kernelspec": {
   "display_name": "finanzas",
   "language": "python",
   "name": "python3"
  },
  "language_info": {
   "codemirror_mode": {
    "name": "ipython",
    "version": 3
   },
   "file_extension": ".py",
   "mimetype": "text/x-python",
   "name": "python",
   "nbconvert_exporter": "python",
   "pygments_lexer": "ipython3",
   "version": "3.11.1"
  },
  "orig_nbformat": 4
 },
 "nbformat": 4,
 "nbformat_minor": 2
}
